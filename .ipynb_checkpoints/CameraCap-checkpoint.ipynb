{
 "cells": [
  {
   "cell_type": "markdown",
   "id": "0bfa550e-f09d-469e-9b19-b7cb27c90fef",
   "metadata": {},
   "source": [
    "# カメラ画像取得"
   ]
  },
  {
   "cell_type": "code",
   "execution_count": 1,
   "id": "e05de0b3-1cc7-4588-850d-8ee4025e12e2",
   "metadata": {},
   "outputs": [],
   "source": [
    "import cv2\n",
    "\n",
    "# カメラのキャプチャオブジェクトを作成（デフォルトのカメラを使用）\n",
    "cap = cv2.VideoCapture(1)\n",
    "\n",
    "if not cap.isOpened():\n",
    "    print(\"カメラを開くことができませんでした\")\n",
    "    exit()\n",
    "\n",
    "while True:\n",
    "    # フレームを取得\n",
    "    ret, frame = cap.read()\n",
    "\n",
    "    if not ret:\n",
    "        print(\"フレームの取得に失敗しました\")\n",
    "        break\n",
    "\n",
    "    # フレームを表示\n",
    "    cv2.imshow('Camera', frame)\n",
    "\n",
    "    # 'q'キーを押したらループを終了\n",
    "    if cv2.waitKey(1) & 0xFF == ord('q'):\n",
    "        break\n",
    "\n",
    "# キャプチャを解放し、ウィンドウを閉じる\n",
    "cap.release()\n",
    "cv2.destroyAllWindows()"
   ]
  },
  {
   "cell_type": "markdown",
   "id": "f7c89605-85d5-4746-8e2c-fc839b8bb2d1",
   "metadata": {},
   "source": [
    "# 円検出及び半径計算"
   ]
  },
  {
   "cell_type": "code",
   "execution_count": 3,
   "id": "9f0b972f-41fd-44bc-a46f-48a437f5575c",
   "metadata": {},
   "outputs": [
    {
     "name": "stderr",
     "output_type": "stream",
     "text": [
      "C:\\Users\\Yoshiyuki Hatta\\AppData\\Local\\Temp\\ipykernel_8132\\3567665988.py:48: RuntimeWarning: overflow encountered in scalar subtract\n",
      "  cv2.putText(frame, f\"Radius: {2*i[2]} px\", (i[0] - 50, i[1] - i[2] - 10),\n"
     ]
    }
   ],
   "source": [
    "import cv2\n",
    "import numpy as np\n",
    "\n",
    "# カメラのキャプチャオブジェクトを作成（デフォルトのカメラを使用）\n",
    "cap = cv2.VideoCapture(1)\n",
    "\n",
    "if not cap.isOpened():\n",
    "    print(\"カメラを開くことができませんでした\")\n",
    "    exit()\n",
    "\n",
    "while True:\n",
    "    # フレームを取得\n",
    "    ret, frame = cap.read()\n",
    "\n",
    "    if not ret:\n",
    "        print(\"フレームの取得に失敗しました\")\n",
    "        break\n",
    "\n",
    "    # グレースケールに変換\n",
    "    gray = cv2.cvtColor(frame, cv2.COLOR_BGR2GRAY)\n",
    "\n",
    "    # ノイズを減らすためにぼかし処理を適用\n",
    "    gray = cv2.medianBlur(gray, 5)\n",
    "\n",
    "    # Hough変換で円を検出\n",
    "    circles = cv2.HoughCircles(\n",
    "        gray, \n",
    "        cv2.HOUGH_GRADIENT, \n",
    "        dp=1.2, \n",
    "        minDist=100, \n",
    "        param1=100, \n",
    "        param2=30, \n",
    "        minRadius=0, \n",
    "        maxRadius=0\n",
    "    )\n",
    "\n",
    "    # 円が検出された場合\n",
    "    if circles is not None:\n",
    "        # 結果を丸めて整数に変換\n",
    "        circles = np.uint16(np.around(circles))\n",
    "\n",
    "        for i in circles[0, :]:\n",
    "            # 円の中心に円を描画\n",
    "            cv2.circle(frame, (i[0], i[1]), 1, (0, 100, 100), 3)\n",
    "            # 円周に円を描画\n",
    "            cv2.circle(frame, (i[0], i[1]), i[2], (255, 0, 255), 3)\n",
    "            # 円の半径を表示\n",
    "            cv2.putText(frame, f\"Diameter: {2*i[2]} px\", (i[0] - 50, i[1] - i[2] - 10),\n",
    "                        cv2.FONT_HERSHEY_SIMPLEX, 0.6, (255, 255, 255), 2)\n",
    "\n",
    "    # フレームを表示\n",
    "    cv2.imshow('Detected Circles', frame)\n",
    "\n",
    "    # 'q'キーを押したらループを終了\n",
    "    if cv2.waitKey(1) & 0xFF == ord('q'):\n",
    "        break\n",
    "\n",
    "# キャプチャを解放し、ウィンドウを閉じる\n",
    "cap.release()\n",
    "cv2.destroyAllWindows()"
   ]
  },
  {
   "cell_type": "code",
   "execution_count": null,
   "id": "35582e59-c795-49d8-92fc-ed7287f2c117",
   "metadata": {},
   "outputs": [],
   "source": []
  }
 ],
 "metadata": {
  "kernelspec": {
   "display_name": "Python 3 (ipykernel)",
   "language": "python",
   "name": "python3"
  },
  "language_info": {
   "codemirror_mode": {
    "name": "ipython",
    "version": 3
   },
   "file_extension": ".py",
   "mimetype": "text/x-python",
   "name": "python",
   "nbconvert_exporter": "python",
   "pygments_lexer": "ipython3",
   "version": "3.11.9"
  }
 },
 "nbformat": 4,
 "nbformat_minor": 5
}
